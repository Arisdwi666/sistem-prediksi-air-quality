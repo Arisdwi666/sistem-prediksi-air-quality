{
 "cells": [
  {
   "cell_type": "markdown",
   "id": "ab1b3ee0",
   "metadata": {},
   "source": [
    "# Prediksi Kualitas Udara dengan Algoritma Support Vector Machine (SVM)."
   ]
  },
  {
   "cell_type": "markdown",
   "id": "f87224d5",
   "metadata": {},
   "source": [
    "### Import Library"
   ]
  },
  {
   "cell_type": "code",
   "execution_count": 352,
   "id": "984454fa",
   "metadata": {
    "_cell_guid": "b1076dfc-b9ad-4769-8c92-a6c4dae69d19",
    "_uuid": "8f2839f25d086af736a60e9eeb907d3b93b6e0e5",
    "execution": {
     "iopub.execute_input": "2023-12-04T05:38:51.443215Z",
     "iopub.status.busy": "2023-12-04T05:38:51.442343Z",
     "iopub.status.idle": "2023-12-04T05:38:54.815005Z",
     "shell.execute_reply": "2023-12-04T05:38:54.813863Z"
    },
    "papermill": {
     "duration": 3.398362,
     "end_time": "2023-12-04T05:38:54.819213",
     "exception": false,
     "start_time": "2023-12-04T05:38:51.420851",
     "status": "completed"
    },
    "tags": []
   },
   "outputs": [],
   "source": [
    "import numpy as np \n",
    "import pandas as pd \n",
    "import matplotlib.pyplot as plt \n",
    "import seaborn as sns\n",
    "import pickle\n",
    "import joblib\n",
    "from sklearn.svm import SVC\n",
    "from sklearn.metrics import confusion_matrix, classification_report\n",
    "from sklearn.model_selection import train_test_split, GridSearchCV\n",
    "from sklearn.preprocessing import LabelEncoder, MinMaxScaler\n"
   ]
  },
  {
   "cell_type": "markdown",
   "id": "1c970081",
   "metadata": {
    "papermill": {
     "duration": 0.0169,
     "end_time": "2023-12-04T05:38:54.857356",
     "exception": false,
     "start_time": "2023-12-04T05:38:54.840456",
     "status": "completed"
    },
    "tags": []
   },
   "source": [
    "## Dataset"
   ]
  },
  {
   "cell_type": "markdown",
   "id": "0092c486",
   "metadata": {
    "papermill": {
     "duration": 0.017944,
     "end_time": "2023-12-04T05:38:54.893958",
     "exception": false,
     "start_time": "2023-12-04T05:38:54.876014",
     "status": "completed"
    },
    "tags": []
   },
   "source": [
    "Dataset ISPU di SPKU Jakarta tahun 2021 diambil dari situs Jakarta Open Data. Dataset tersebut terbagi berdasarkan rentang waktu per bulan. Dataset dari masing-masing bulan akan digabungkan menjadi satu dataframe. Berdasarkan deskripsi yang diberikan pada situs tersebut, Dataset ini berisi mengenai Indeks Standar Pencemar Udara (ISPU) yang diukur dari 5 stasiun pemantau kualitas udara (SPKU) yang ada di Provinsi DKI Jakarta Tahun 2021.\n",
    "\n",
    "Penjelasan variabel dari data diatas sebagai berikut :\n",
    "\n",
    "1. tanggal : Tanggal pengukuran kualitas udara\n",
    "2. stasiun : Lokasi pengukuran di stasiun\n",
    "3. pm10 : Partikulat salah satu parameter yang diukur\n",
    "4. pm25 : Partikulat salah satu parameter yang diukur\n",
    "5. so2 : Sulfida (dalam bentuk SO2) salah satu parameter yang diukur\n",
    "6. co : Carbon Monoksida salah satu parameter yand diukur\n",
    "7. o3 : Ozon salah satu parameter yang diukur\n",
    "8. no2 : NItrogen dioksida salah satu parameter yang diukur\n",
    "9. max : Nilai ukur paling tinggi dari seluruh parameter yang diukur dalam waktu yang sama\n",
    "10. critical : Parameter yang hasil pengukurannya paling tinggi\n",
    "11. categori : Kategori hasil perhitungan indeks standar pencemaran udara"
   ]
  },
  {
   "cell_type": "code",
   "execution_count": 353,
   "id": "136ed79a",
   "metadata": {
    "execution": {
     "iopub.execute_input": "2023-12-04T05:38:54.931612Z",
     "iopub.status.busy": "2023-12-04T05:38:54.930980Z",
     "iopub.status.idle": "2023-12-04T05:38:54.967261Z",
     "shell.execute_reply": "2023-12-04T05:38:54.965985Z"
    },
    "papermill": {
     "duration": 0.059775,
     "end_time": "2023-12-04T05:38:54.971647",
     "exception": false,
     "start_time": "2023-12-04T05:38:54.911872",
     "status": "completed"
    },
    "tags": []
   },
   "outputs": [],
   "source": [
    "df = pd.read_csv(\"data/ispu_jakarta.csv\")"
   ]
  },
  {
   "cell_type": "code",
   "execution_count": 354,
   "id": "0674ac1b",
   "metadata": {
    "execution": {
     "iopub.execute_input": "2023-12-04T05:38:55.013133Z",
     "iopub.status.busy": "2023-12-04T05:38:55.012004Z",
     "iopub.status.idle": "2023-12-04T05:38:55.049026Z",
     "shell.execute_reply": "2023-12-04T05:38:55.047496Z"
    },
    "papermill": {
     "duration": 0.060726,
     "end_time": "2023-12-04T05:38:55.052154",
     "exception": false,
     "start_time": "2023-12-04T05:38:54.991428",
     "status": "completed"
    },
    "tags": []
   },
   "outputs": [
    {
     "data": {
      "text/html": [
       "<div>\n",
       "<style scoped>\n",
       "    .dataframe tbody tr th:only-of-type {\n",
       "        vertical-align: middle;\n",
       "    }\n",
       "\n",
       "    .dataframe tbody tr th {\n",
       "        vertical-align: top;\n",
       "    }\n",
       "\n",
       "    .dataframe thead th {\n",
       "        text-align: right;\n",
       "    }\n",
       "</style>\n",
       "<table border=\"1\" class=\"dataframe\">\n",
       "  <thead>\n",
       "    <tr style=\"text-align: right;\">\n",
       "      <th></th>\n",
       "      <th>tanggal</th>\n",
       "      <th>stasiun</th>\n",
       "      <th>pm10</th>\n",
       "      <th>pm25</th>\n",
       "      <th>so2</th>\n",
       "      <th>co</th>\n",
       "      <th>o3</th>\n",
       "      <th>no2</th>\n",
       "      <th>max</th>\n",
       "      <th>critical</th>\n",
       "      <th>categori</th>\n",
       "    </tr>\n",
       "  </thead>\n",
       "  <tbody>\n",
       "    <tr>\n",
       "      <th>0</th>\n",
       "      <td>2021-01-01</td>\n",
       "      <td>DKI4 (Lubang Buaya)</td>\n",
       "      <td>41.0</td>\n",
       "      <td>NaN</td>\n",
       "      <td>37.0</td>\n",
       "      <td>14.0</td>\n",
       "      <td>35.0</td>\n",
       "      <td>4.0</td>\n",
       "      <td>41</td>\n",
       "      <td>PM10</td>\n",
       "      <td>BAIK</td>\n",
       "    </tr>\n",
       "    <tr>\n",
       "      <th>1</th>\n",
       "      <td>2021-01-01</td>\n",
       "      <td>DKI1 (Bunderan HI)</td>\n",
       "      <td>38.0</td>\n",
       "      <td>53.0</td>\n",
       "      <td>29.0</td>\n",
       "      <td>6.0</td>\n",
       "      <td>31.0</td>\n",
       "      <td>13.0</td>\n",
       "      <td>53</td>\n",
       "      <td>PM25</td>\n",
       "      <td>SEDANG</td>\n",
       "    </tr>\n",
       "    <tr>\n",
       "      <th>2</th>\n",
       "      <td>2021-01-02</td>\n",
       "      <td>DKI1 (Bunderan HI)</td>\n",
       "      <td>27.0</td>\n",
       "      <td>46.0</td>\n",
       "      <td>27.0</td>\n",
       "      <td>7.0</td>\n",
       "      <td>47.0</td>\n",
       "      <td>7.0</td>\n",
       "      <td>47</td>\n",
       "      <td>O3</td>\n",
       "      <td>BAIK</td>\n",
       "    </tr>\n",
       "    <tr>\n",
       "      <th>3</th>\n",
       "      <td>2021-01-03</td>\n",
       "      <td>DKI1 (Bunderan HI)</td>\n",
       "      <td>44.0</td>\n",
       "      <td>58.0</td>\n",
       "      <td>25.0</td>\n",
       "      <td>7.0</td>\n",
       "      <td>40.0</td>\n",
       "      <td>13.0</td>\n",
       "      <td>58</td>\n",
       "      <td>PM25</td>\n",
       "      <td>SEDANG</td>\n",
       "    </tr>\n",
       "    <tr>\n",
       "      <th>4</th>\n",
       "      <td>2021-01-04</td>\n",
       "      <td>DKI1 (Bunderan HI)</td>\n",
       "      <td>30.0</td>\n",
       "      <td>48.0</td>\n",
       "      <td>24.0</td>\n",
       "      <td>4.0</td>\n",
       "      <td>32.0</td>\n",
       "      <td>7.0</td>\n",
       "      <td>48</td>\n",
       "      <td>PM25</td>\n",
       "      <td>BAIK</td>\n",
       "    </tr>\n",
       "  </tbody>\n",
       "</table>\n",
       "</div>"
      ],
      "text/plain": [
       "      tanggal              stasiun  pm10  pm25   so2    co    o3   no2 max  \\\n",
       "0  2021-01-01  DKI4 (Lubang Buaya)  41.0   NaN  37.0  14.0  35.0   4.0  41   \n",
       "1  2021-01-01   DKI1 (Bunderan HI)  38.0  53.0  29.0   6.0  31.0  13.0  53   \n",
       "2  2021-01-02   DKI1 (Bunderan HI)  27.0  46.0  27.0   7.0  47.0   7.0  47   \n",
       "3  2021-01-03   DKI1 (Bunderan HI)  44.0  58.0  25.0   7.0  40.0  13.0  58   \n",
       "4  2021-01-04   DKI1 (Bunderan HI)  30.0  48.0  24.0   4.0  32.0   7.0  48   \n",
       "\n",
       "  critical categori  \n",
       "0     PM10     BAIK  \n",
       "1     PM25   SEDANG  \n",
       "2       O3     BAIK  \n",
       "3     PM25   SEDANG  \n",
       "4     PM25     BAIK  "
      ]
     },
     "execution_count": 354,
     "metadata": {},
     "output_type": "execute_result"
    }
   ],
   "source": [
    "df.head()"
   ]
  },
  {
   "cell_type": "code",
   "execution_count": 355,
   "id": "a9a73d21",
   "metadata": {},
   "outputs": [
    {
     "name": "stdout",
     "output_type": "stream",
     "text": [
      "<class 'pandas.core.frame.DataFrame'>\n",
      "RangeIndex: 775 entries, 0 to 774\n",
      "Data columns (total 11 columns):\n",
      " #   Column    Non-Null Count  Dtype  \n",
      "---  ------    --------------  -----  \n",
      " 0   tanggal   775 non-null    object \n",
      " 1   stasiun   775 non-null    object \n",
      " 2   pm10      743 non-null    float64\n",
      " 3   pm25      732 non-null    float64\n",
      " 4   so2       753 non-null    float64\n",
      " 5   co        762 non-null    float64\n",
      " 6   o3        739 non-null    float64\n",
      " 7   no2       760 non-null    float64\n",
      " 8   max       775 non-null    object \n",
      " 9   critical  775 non-null    object \n",
      " 10  categori  774 non-null    object \n",
      "dtypes: float64(6), object(5)\n",
      "memory usage: 66.7+ KB\n"
     ]
    }
   ],
   "source": [
    "df.info()"
   ]
  },
  {
   "cell_type": "code",
   "execution_count": 356,
   "id": "32ca13b3",
   "metadata": {
    "execution": {
     "iopub.execute_input": "2023-12-04T05:38:55.092236Z",
     "iopub.status.busy": "2023-12-04T05:38:55.091359Z",
     "iopub.status.idle": "2023-12-04T05:38:55.099288Z",
     "shell.execute_reply": "2023-12-04T05:38:55.097620Z"
    },
    "papermill": {
     "duration": 0.032954,
     "end_time": "2023-12-04T05:38:55.102612",
     "exception": false,
     "start_time": "2023-12-04T05:38:55.069658",
     "status": "completed"
    },
    "tags": []
   },
   "outputs": [
    {
     "data": {
      "text/plain": [
       "(775, 11)"
      ]
     },
     "execution_count": 356,
     "metadata": {},
     "output_type": "execute_result"
    }
   ],
   "source": [
    "df.shape"
   ]
  },
  {
   "cell_type": "code",
   "execution_count": 357,
   "id": "cb7d47f4",
   "metadata": {
    "execution": {
     "iopub.execute_input": "2023-12-04T05:38:55.140864Z",
     "iopub.status.busy": "2023-12-04T05:38:55.140421Z",
     "iopub.status.idle": "2023-12-04T05:38:55.160963Z",
     "shell.execute_reply": "2023-12-04T05:38:55.159204Z"
    },
    "papermill": {
     "duration": 0.044229,
     "end_time": "2023-12-04T05:38:55.164161",
     "exception": false,
     "start_time": "2023-12-04T05:38:55.119932",
     "status": "completed"
    },
    "tags": []
   },
   "outputs": [
    {
     "name": "stdout",
     "output_type": "stream",
     "text": [
      "categori\n",
      "SEDANG         344\n",
      "TIDAK SEHAT    265\n",
      "BAIK           165\n",
      "Name: count, dtype: int64\n"
     ]
    }
   ],
   "source": [
    "counts = df['categori'].value_counts()\n",
    "\n",
    "print(counts)"
   ]
  },
  {
   "cell_type": "markdown",
   "id": "5bb2191d",
   "metadata": {
    "papermill": {
     "duration": 0.017006,
     "end_time": "2023-12-04T05:38:55.199333",
     "exception": false,
     "start_time": "2023-12-04T05:38:55.182327",
     "status": "completed"
    },
    "tags": []
   },
   "source": [
    "## Preprocessing"
   ]
  },
  {
   "cell_type": "markdown",
   "id": "23aaecf9",
   "metadata": {
    "papermill": {
     "duration": 0.020745,
     "end_time": "2023-12-04T05:38:55.242541",
     "exception": false,
     "start_time": "2023-12-04T05:38:55.221796",
     "status": "completed"
    },
    "tags": []
   },
   "source": [
    "**Tranformation data**\n",
    "\n",
    "\n",
    "\n",
    "categori terdiri dari :\n",
    "\n",
    "Baik = 0    \n",
    "Sedang = 1    \n",
    "Tidak Sehat = 2"
   ]
  },
  {
   "cell_type": "markdown",
   "id": "336bebe6",
   "metadata": {},
   "source": [
    "* mengubah nilai dalam kolom ‘categori’ dari string menjadi numerik."
   ]
  },
  {
   "cell_type": "code",
   "execution_count": 358,
   "id": "e615daf9",
   "metadata": {
    "execution": {
     "iopub.execute_input": "2023-12-04T05:38:55.280882Z",
     "iopub.status.busy": "2023-12-04T05:38:55.280433Z",
     "iopub.status.idle": "2023-12-04T05:38:55.316061Z",
     "shell.execute_reply": "2023-12-04T05:38:55.315006Z"
    },
    "papermill": {
     "duration": 0.057439,
     "end_time": "2023-12-04T05:38:55.318937",
     "exception": false,
     "start_time": "2023-12-04T05:38:55.261498",
     "status": "completed"
    },
    "tags": []
   },
   "outputs": [
    {
     "data": {
      "text/html": [
       "<div>\n",
       "<style scoped>\n",
       "    .dataframe tbody tr th:only-of-type {\n",
       "        vertical-align: middle;\n",
       "    }\n",
       "\n",
       "    .dataframe tbody tr th {\n",
       "        vertical-align: top;\n",
       "    }\n",
       "\n",
       "    .dataframe thead th {\n",
       "        text-align: right;\n",
       "    }\n",
       "</style>\n",
       "<table border=\"1\" class=\"dataframe\">\n",
       "  <thead>\n",
       "    <tr style=\"text-align: right;\">\n",
       "      <th></th>\n",
       "      <th>tanggal</th>\n",
       "      <th>stasiun</th>\n",
       "      <th>pm10</th>\n",
       "      <th>pm25</th>\n",
       "      <th>so2</th>\n",
       "      <th>co</th>\n",
       "      <th>o3</th>\n",
       "      <th>no2</th>\n",
       "      <th>max</th>\n",
       "      <th>critical</th>\n",
       "      <th>categori</th>\n",
       "    </tr>\n",
       "  </thead>\n",
       "  <tbody>\n",
       "    <tr>\n",
       "      <th>0</th>\n",
       "      <td>2021-01-01</td>\n",
       "      <td>DKI4 (Lubang Buaya)</td>\n",
       "      <td>41.0</td>\n",
       "      <td>NaN</td>\n",
       "      <td>37.0</td>\n",
       "      <td>14.0</td>\n",
       "      <td>35.0</td>\n",
       "      <td>4.0</td>\n",
       "      <td>41</td>\n",
       "      <td>PM10</td>\n",
       "      <td>0</td>\n",
       "    </tr>\n",
       "    <tr>\n",
       "      <th>1</th>\n",
       "      <td>2021-01-01</td>\n",
       "      <td>DKI1 (Bunderan HI)</td>\n",
       "      <td>38.0</td>\n",
       "      <td>53.0</td>\n",
       "      <td>29.0</td>\n",
       "      <td>6.0</td>\n",
       "      <td>31.0</td>\n",
       "      <td>13.0</td>\n",
       "      <td>53</td>\n",
       "      <td>PM25</td>\n",
       "      <td>1</td>\n",
       "    </tr>\n",
       "    <tr>\n",
       "      <th>2</th>\n",
       "      <td>2021-01-02</td>\n",
       "      <td>DKI1 (Bunderan HI)</td>\n",
       "      <td>27.0</td>\n",
       "      <td>46.0</td>\n",
       "      <td>27.0</td>\n",
       "      <td>7.0</td>\n",
       "      <td>47.0</td>\n",
       "      <td>7.0</td>\n",
       "      <td>47</td>\n",
       "      <td>O3</td>\n",
       "      <td>0</td>\n",
       "    </tr>\n",
       "    <tr>\n",
       "      <th>3</th>\n",
       "      <td>2021-01-03</td>\n",
       "      <td>DKI1 (Bunderan HI)</td>\n",
       "      <td>44.0</td>\n",
       "      <td>58.0</td>\n",
       "      <td>25.0</td>\n",
       "      <td>7.0</td>\n",
       "      <td>40.0</td>\n",
       "      <td>13.0</td>\n",
       "      <td>58</td>\n",
       "      <td>PM25</td>\n",
       "      <td>1</td>\n",
       "    </tr>\n",
       "    <tr>\n",
       "      <th>4</th>\n",
       "      <td>2021-01-04</td>\n",
       "      <td>DKI1 (Bunderan HI)</td>\n",
       "      <td>30.0</td>\n",
       "      <td>48.0</td>\n",
       "      <td>24.0</td>\n",
       "      <td>4.0</td>\n",
       "      <td>32.0</td>\n",
       "      <td>7.0</td>\n",
       "      <td>48</td>\n",
       "      <td>PM25</td>\n",
       "      <td>0</td>\n",
       "    </tr>\n",
       "  </tbody>\n",
       "</table>\n",
       "</div>"
      ],
      "text/plain": [
       "      tanggal              stasiun  pm10  pm25   so2    co    o3   no2 max  \\\n",
       "0  2021-01-01  DKI4 (Lubang Buaya)  41.0   NaN  37.0  14.0  35.0   4.0  41   \n",
       "1  2021-01-01   DKI1 (Bunderan HI)  38.0  53.0  29.0   6.0  31.0  13.0  53   \n",
       "2  2021-01-02   DKI1 (Bunderan HI)  27.0  46.0  27.0   7.0  47.0   7.0  47   \n",
       "3  2021-01-03   DKI1 (Bunderan HI)  44.0  58.0  25.0   7.0  40.0  13.0  58   \n",
       "4  2021-01-04   DKI1 (Bunderan HI)  30.0  48.0  24.0   4.0  32.0   7.0  48   \n",
       "\n",
       "  critical  categori  \n",
       "0     PM10         0  \n",
       "1     PM25         1  \n",
       "2       O3         0  \n",
       "3     PM25         1  \n",
       "4     PM25         0  "
      ]
     },
     "execution_count": 358,
     "metadata": {},
     "output_type": "execute_result"
    }
   ],
   "source": [
    "labelencoder = LabelEncoder()\n",
    "df['categori'] = labelencoder.fit_transform(df['categori'])\n",
    "\n",
    "df.head()"
   ]
  },
  {
   "cell_type": "code",
   "execution_count": 359,
   "id": "c8afe774",
   "metadata": {
    "execution": {
     "iopub.execute_input": "2023-12-04T05:38:55.358450Z",
     "iopub.status.busy": "2023-12-04T05:38:55.357997Z",
     "iopub.status.idle": "2023-12-04T05:38:55.685355Z",
     "shell.execute_reply": "2023-12-04T05:38:55.684251Z"
    },
    "papermill": {
     "duration": 0.348989,
     "end_time": "2023-12-04T05:38:55.687955",
     "exception": false,
     "start_time": "2023-12-04T05:38:55.338966",
     "status": "completed"
    },
    "tags": []
   },
   "outputs": [
    {
     "data": {
      "image/png": "[encoded data removed]",
      "text/plain": [
       "<Figure size 640x480 with 1 Axes>"
      ]
     },
     "metadata": {},
     "output_type": "display_data"
    }
   ],
   "source": [
    "sns.countplot(x='categori', data=df, hue='categori', palette=\"mako_r\", dodge=False)\n",
    "plt.xlabel(\"Categori (0 = BAIK, 1 = SEDANG. 2 = TIDAK SEHAT)\")\n",
    "plt.legend(title=None) \n",
    "plt.show()"
   ]
  },
  {
   "cell_type": "markdown",
   "id": "bbc024bb",
   "metadata": {
    "papermill": {
     "duration": 0.107223,
     "end_time": "2023-12-04T05:38:55.816056",
     "exception": false,
     "start_time": "2023-12-04T05:38:55.708833",
     "status": "completed"
    },
    "tags": []
   },
   "source": [
    "**Data Cleaning**\n",
    "\n",
    "* mengecek apakah ada missing value maupun data yang duplikat\n"
   ]
  },
  {
   "cell_type": "code",
   "execution_count": 360,
   "id": "f2f0e548",
   "metadata": {
    "execution": {
     "iopub.execute_input": "2023-12-04T05:38:55.862037Z",
     "iopub.status.busy": "2023-12-04T05:38:55.860302Z",
     "iopub.status.idle": "2023-12-04T05:38:55.877888Z",
     "shell.execute_reply": "2023-12-04T05:38:55.875727Z"
    },
    "papermill": {
     "duration": 0.04412,
     "end_time": "2023-12-04T05:38:55.881015",
     "exception": false,
     "start_time": "2023-12-04T05:38:55.836895",
     "status": "completed"
    },
    "tags": []
   },
   "outputs": [
    {
     "data": {
      "text/plain": [
       "tanggal      0\n",
       "stasiun      0\n",
       "pm10        32\n",
       "pm25        43\n",
       "so2         22\n",
       "co          13\n",
       "o3          36\n",
       "no2         15\n",
       "max          0\n",
       "critical     0\n",
       "categori     0\n",
       "dtype: int64"
      ]
     },
     "execution_count": 360,
     "metadata": {},
     "output_type": "execute_result"
    }
   ],
   "source": [
    "df.isnull().sum()"
   ]
  },
  {
   "cell_type": "code",
   "execution_count": 361,
   "id": "152b8ede",
   "metadata": {
    "execution": {
     "iopub.execute_input": "2023-12-04T05:38:55.929298Z",
     "iopub.status.busy": "2023-12-04T05:38:55.928238Z",
     "iopub.status.idle": "2023-12-04T05:38:55.945993Z",
     "shell.execute_reply": "2023-12-04T05:38:55.943125Z"
    },
    "papermill": {
     "duration": 0.04931,
     "end_time": "2023-12-04T05:38:55.951415",
     "exception": false,
     "start_time": "2023-12-04T05:38:55.902105",
     "status": "completed"
    },
    "tags": []
   },
   "outputs": [
    {
     "data": {
      "text/plain": [
       "0"
      ]
     },
     "execution_count": 361,
     "metadata": {},
     "output_type": "execute_result"
    }
   ],
   "source": [
    "df.duplicated().sum()"
   ]
  },
  {
   "cell_type": "markdown",
   "id": "8465c824",
   "metadata": {
    "papermill": {
     "duration": 0.021641,
     "end_time": "2023-12-04T05:38:56.003582",
     "exception": false,
     "start_time": "2023-12-04T05:38:55.981941",
     "status": "completed"
    },
    "tags": []
   },
   "source": [
    "* isi dengan nilai median"
   ]
  },
  {
   "cell_type": "code",
   "execution_count": 362,
   "id": "2dfe3edc",
   "metadata": {
    "execution": {
     "iopub.execute_input": "2023-12-04T05:38:56.057732Z",
     "iopub.status.busy": "2023-12-04T05:38:56.057279Z",
     "iopub.status.idle": "2023-12-04T05:38:56.078361Z",
     "shell.execute_reply": "2023-12-04T05:38:56.076820Z"
    },
    "papermill": {
     "duration": 0.050318,
     "end_time": "2023-12-04T05:38:56.081894",
     "exception": false,
     "start_time": "2023-12-04T05:38:56.031576",
     "status": "completed"
    },
    "tags": []
   },
   "outputs": [],
   "source": [
    "df = df.fillna(df.median(numeric_only=True))"
   ]
  },
  {
   "cell_type": "markdown",
   "id": "d98f1270",
   "metadata": {},
   "source": [
    "cek kembali"
   ]
  },
  {
   "cell_type": "code",
   "execution_count": 363,
   "id": "6588b704",
   "metadata": {
    "execution": {
     "iopub.execute_input": "2023-12-04T05:38:56.138475Z",
     "iopub.status.busy": "2023-12-04T05:38:56.137542Z",
     "iopub.status.idle": "2023-12-04T05:38:56.152858Z",
     "shell.execute_reply": "2023-12-04T05:38:56.150344Z"
    },
    "papermill": {
     "duration": 0.047821,
     "end_time": "2023-12-04T05:38:56.156968",
     "exception": false,
     "start_time": "2023-12-04T05:38:56.109147",
     "status": "completed"
    },
    "tags": []
   },
   "outputs": [
    {
     "data": {
      "text/plain": [
       "tanggal     0\n",
       "stasiun     0\n",
       "pm10        0\n",
       "pm25        0\n",
       "so2         0\n",
       "co          0\n",
       "o3          0\n",
       "no2         0\n",
       "max         0\n",
       "critical    0\n",
       "categori    0\n",
       "dtype: int64"
      ]
     },
     "execution_count": 363,
     "metadata": {},
     "output_type": "execute_result"
    }
   ],
   "source": [
    "df.isnull().sum()"
   ]
  },
  {
   "cell_type": "markdown",
   "id": "bf519b04",
   "metadata": {
    "papermill": {
     "duration": 0.022088,
     "end_time": "2023-12-04T05:38:56.204877",
     "exception": false,
     "start_time": "2023-12-04T05:38:56.182789",
     "status": "completed"
    },
    "tags": []
   },
   "source": [
    "\n",
    "* Menghapus kolom dan error value yang tidak diperlukan "
   ]
  },
  {
   "cell_type": "code",
   "execution_count": 364,
   "id": "b9385513",
   "metadata": {
    "execution": {
     "iopub.execute_input": "2023-12-04T05:38:56.267500Z",
     "iopub.status.busy": "2023-12-04T05:38:56.265772Z",
     "iopub.status.idle": "2023-12-04T05:38:56.318945Z",
     "shell.execute_reply": "2023-12-04T05:38:56.317416Z"
    },
    "papermill": {
     "duration": 0.091808,
     "end_time": "2023-12-04T05:38:56.322706",
     "exception": false,
     "start_time": "2023-12-04T05:38:56.230898",
     "status": "completed"
    },
    "tags": []
   },
   "outputs": [
    {
     "data": {
      "text/html": [
       "<div>\n",
       "<style scoped>\n",
       "    .dataframe tbody tr th:only-of-type {\n",
       "        vertical-align: middle;\n",
       "    }\n",
       "\n",
       "    .dataframe tbody tr th {\n",
       "        vertical-align: top;\n",
       "    }\n",
       "\n",
       "    .dataframe thead th {\n",
       "        text-align: right;\n",
       "    }\n",
       "</style>\n",
       "<table border=\"1\" class=\"dataframe\">\n",
       "  <thead>\n",
       "    <tr style=\"text-align: right;\">\n",
       "      <th></th>\n",
       "      <th>pm10</th>\n",
       "      <th>pm25</th>\n",
       "      <th>so2</th>\n",
       "      <th>co</th>\n",
       "      <th>o3</th>\n",
       "      <th>no2</th>\n",
       "      <th>categori</th>\n",
       "    </tr>\n",
       "  </thead>\n",
       "  <tbody>\n",
       "    <tr>\n",
       "      <th>0</th>\n",
       "      <td>41.0</td>\n",
       "      <td>86.0</td>\n",
       "      <td>37.0</td>\n",
       "      <td>14.0</td>\n",
       "      <td>35.0</td>\n",
       "      <td>4.0</td>\n",
       "      <td>0</td>\n",
       "    </tr>\n",
       "    <tr>\n",
       "      <th>1</th>\n",
       "      <td>38.0</td>\n",
       "      <td>53.0</td>\n",
       "      <td>29.0</td>\n",
       "      <td>6.0</td>\n",
       "      <td>31.0</td>\n",
       "      <td>13.0</td>\n",
       "      <td>1</td>\n",
       "    </tr>\n",
       "    <tr>\n",
       "      <th>2</th>\n",
       "      <td>27.0</td>\n",
       "      <td>46.0</td>\n",
       "      <td>27.0</td>\n",
       "      <td>7.0</td>\n",
       "      <td>47.0</td>\n",
       "      <td>7.0</td>\n",
       "      <td>0</td>\n",
       "    </tr>\n",
       "    <tr>\n",
       "      <th>3</th>\n",
       "      <td>44.0</td>\n",
       "      <td>58.0</td>\n",
       "      <td>25.0</td>\n",
       "      <td>7.0</td>\n",
       "      <td>40.0</td>\n",
       "      <td>13.0</td>\n",
       "      <td>1</td>\n",
       "    </tr>\n",
       "    <tr>\n",
       "      <th>4</th>\n",
       "      <td>30.0</td>\n",
       "      <td>48.0</td>\n",
       "      <td>24.0</td>\n",
       "      <td>4.0</td>\n",
       "      <td>32.0</td>\n",
       "      <td>7.0</td>\n",
       "      <td>0</td>\n",
       "    </tr>\n",
       "  </tbody>\n",
       "</table>\n",
       "</div>"
      ],
      "text/plain": [
       "   pm10  pm25   so2    co    o3   no2  categori\n",
       "0  41.0  86.0  37.0  14.0  35.0   4.0         0\n",
       "1  38.0  53.0  29.0   6.0  31.0  13.0         1\n",
       "2  27.0  46.0  27.0   7.0  47.0   7.0         0\n",
       "3  44.0  58.0  25.0   7.0  40.0  13.0         1\n",
       "4  30.0  48.0  24.0   4.0  32.0   7.0         0"
      ]
     },
     "execution_count": 364,
     "metadata": {},
     "output_type": "execute_result"
    }
   ],
   "source": [
    "df = df.drop('tanggal', axis=1)\n",
    "df = df.drop('stasiun', axis=1)\n",
    "df = df.drop('max', axis=1)\n",
    "df = df.drop('critical', axis=1)\n",
    "\n",
    "\n",
    "df.head()"
   ]
  },
  {
   "cell_type": "code",
   "execution_count": 365,
   "id": "c00f3c37",
   "metadata": {
    "execution": {
     "iopub.execute_input": "2023-12-04T05:38:56.401615Z",
     "iopub.status.busy": "2023-12-04T05:38:56.399330Z",
     "iopub.status.idle": "2023-12-04T05:38:56.417338Z",
     "shell.execute_reply": "2023-12-04T05:38:56.414437Z"
    },
    "papermill": {
     "duration": 0.06072,
     "end_time": "2023-12-04T05:38:56.423526",
     "exception": false,
     "start_time": "2023-12-04T05:38:56.362806",
     "status": "completed"
    },
    "tags": []
   },
   "outputs": [
    {
     "data": {
      "text/html": [
       "<div>\n",
       "<style scoped>\n",
       "    .dataframe tbody tr th:only-of-type {\n",
       "        vertical-align: middle;\n",
       "    }\n",
       "\n",
       "    .dataframe tbody tr th {\n",
       "        vertical-align: top;\n",
       "    }\n",
       "\n",
       "    .dataframe thead th {\n",
       "        text-align: right;\n",
       "    }\n",
       "</style>\n",
       "<table border=\"1\" class=\"dataframe\">\n",
       "  <thead>\n",
       "    <tr style=\"text-align: right;\">\n",
       "      <th></th>\n",
       "      <th>pm10</th>\n",
       "      <th>pm25</th>\n",
       "      <th>so2</th>\n",
       "      <th>co</th>\n",
       "      <th>o3</th>\n",
       "      <th>no2</th>\n",
       "      <th>categori</th>\n",
       "    </tr>\n",
       "  </thead>\n",
       "  <tbody>\n",
       "    <tr>\n",
       "      <th>0</th>\n",
       "      <td>41.0</td>\n",
       "      <td>86.0</td>\n",
       "      <td>37.0</td>\n",
       "      <td>14.0</td>\n",
       "      <td>35.0</td>\n",
       "      <td>4.0</td>\n",
       "      <td>0</td>\n",
       "    </tr>\n",
       "    <tr>\n",
       "      <th>1</th>\n",
       "      <td>38.0</td>\n",
       "      <td>53.0</td>\n",
       "      <td>29.0</td>\n",
       "      <td>6.0</td>\n",
       "      <td>31.0</td>\n",
       "      <td>13.0</td>\n",
       "      <td>1</td>\n",
       "    </tr>\n",
       "    <tr>\n",
       "      <th>2</th>\n",
       "      <td>27.0</td>\n",
       "      <td>46.0</td>\n",
       "      <td>27.0</td>\n",
       "      <td>7.0</td>\n",
       "      <td>47.0</td>\n",
       "      <td>7.0</td>\n",
       "      <td>0</td>\n",
       "    </tr>\n",
       "    <tr>\n",
       "      <th>3</th>\n",
       "      <td>44.0</td>\n",
       "      <td>58.0</td>\n",
       "      <td>25.0</td>\n",
       "      <td>7.0</td>\n",
       "      <td>40.0</td>\n",
       "      <td>13.0</td>\n",
       "      <td>1</td>\n",
       "    </tr>\n",
       "    <tr>\n",
       "      <th>4</th>\n",
       "      <td>30.0</td>\n",
       "      <td>48.0</td>\n",
       "      <td>24.0</td>\n",
       "      <td>4.0</td>\n",
       "      <td>32.0</td>\n",
       "      <td>7.0</td>\n",
       "      <td>0</td>\n",
       "    </tr>\n",
       "  </tbody>\n",
       "</table>\n",
       "</div>"
      ],
      "text/plain": [
       "   pm10  pm25   so2    co    o3   no2  categori\n",
       "0  41.0  86.0  37.0  14.0  35.0   4.0         0\n",
       "1  38.0  53.0  29.0   6.0  31.0  13.0         1\n",
       "2  27.0  46.0  27.0   7.0  47.0   7.0         0\n",
       "3  44.0  58.0  25.0   7.0  40.0  13.0         1\n",
       "4  30.0  48.0  24.0   4.0  32.0   7.0         0"
      ]
     },
     "execution_count": 365,
     "metadata": {},
     "output_type": "execute_result"
    }
   ],
   "source": [
    "df = df[df.categori != 3]\n",
    "\n",
    "df.head()\n"
   ]
  },
  {
   "cell_type": "markdown",
   "id": "6dccf039",
   "metadata": {
    "papermill": {
     "duration": 0.027127,
     "end_time": "2023-12-04T05:38:56.480896",
     "exception": false,
     "start_time": "2023-12-04T05:38:56.453769",
     "status": "completed"
    },
    "tags": []
   },
   "source": [
    "* Normalisai data menggunakan min max scaler"
   ]
  },
  {
   "cell_type": "code",
   "execution_count": 366,
   "metadata": {},
   "outputs": [],
   "source": [
    "%matplotlib inline"
   ]
  },
  {
   "cell_type": "markdown",
   "id": "9eac3971",
   "metadata": {
    "papermill": {
     "duration": 0.022454,
     "end_time": "2023-12-04T05:38:57.161092",
     "exception": false,
     "start_time": "2023-12-04T05:38:57.138638",
     "status": "completed"
    },
    "tags": []
   },
   "source": [
    "Pemilihan rentang dilakukan sebelumnya, misalnya (0, 1), (-1, 1), atau rentang kustom sesuai kebutuhan.\n",
    "\n",
    "Xscaled = X - Xmin / Xmax - Xmin"
   ]
  },
  {
   "cell_type": "code",
   "execution_count": 367,
   "id": "72edfe7a",
   "metadata": {
    "execution": {
     "iopub.execute_input": "2023-12-04T05:38:57.224526Z",
     "iopub.status.busy": "2023-12-04T05:38:57.223503Z",
     "iopub.status.idle": "2023-12-04T05:38:57.253903Z",
     "shell.execute_reply": "2023-12-04T05:38:57.252772Z"
    },
    "papermill": {
     "duration": 0.068144,
     "end_time": "2023-12-04T05:38:57.257615",
     "exception": false,
     "start_time": "2023-12-04T05:38:57.189471",
     "status": "completed"
    },
    "tags": []
   },
   "outputs": [
    {
     "data": {
      "text/html": [
       "<div>\n",
       "<style scoped>\n",
       "    .dataframe tbody tr th:only-of-type {\n",
       "        vertical-align: middle;\n",
       "    }\n",
       "\n",
       "    .dataframe tbody tr th {\n",
       "        vertical-align: top;\n",
       "    }\n",
       "\n",
       "    .dataframe thead th {\n",
       "        text-align: right;\n",
       "    }\n",
       "</style>\n",
       "<table border=\"1\" class=\"dataframe\">\n",
       "  <thead>\n",
       "    <tr style=\"text-align: right;\">\n",
       "      <th></th>\n",
       "      <th>pm10</th>\n",
       "      <th>pm25</th>\n",
       "      <th>so2</th>\n",
       "      <th>co</th>\n",
       "      <th>o3</th>\n",
       "      <th>no2</th>\n",
       "      <th>categori</th>\n",
       "    </tr>\n",
       "  </thead>\n",
       "  <tbody>\n",
       "    <tr>\n",
       "      <th>0</th>\n",
       "      <td>0.158537</td>\n",
       "      <td>0.428571</td>\n",
       "      <td>0.430380</td>\n",
       "      <td>0.285714</td>\n",
       "      <td>0.188811</td>\n",
       "      <td>0.000000</td>\n",
       "      <td>0</td>\n",
       "    </tr>\n",
       "    <tr>\n",
       "      <th>1</th>\n",
       "      <td>0.140244</td>\n",
       "      <td>0.214286</td>\n",
       "      <td>0.329114</td>\n",
       "      <td>0.095238</td>\n",
       "      <td>0.160839</td>\n",
       "      <td>0.152542</td>\n",
       "      <td>1</td>\n",
       "    </tr>\n",
       "    <tr>\n",
       "      <th>2</th>\n",
       "      <td>0.073171</td>\n",
       "      <td>0.168831</td>\n",
       "      <td>0.303797</td>\n",
       "      <td>0.119048</td>\n",
       "      <td>0.272727</td>\n",
       "      <td>0.050847</td>\n",
       "      <td>0</td>\n",
       "    </tr>\n",
       "    <tr>\n",
       "      <th>3</th>\n",
       "      <td>0.176829</td>\n",
       "      <td>0.246753</td>\n",
       "      <td>0.278481</td>\n",
       "      <td>0.119048</td>\n",
       "      <td>0.223776</td>\n",
       "      <td>0.152542</td>\n",
       "      <td>1</td>\n",
       "    </tr>\n",
       "    <tr>\n",
       "      <th>4</th>\n",
       "      <td>0.091463</td>\n",
       "      <td>0.181818</td>\n",
       "      <td>0.265823</td>\n",
       "      <td>0.047619</td>\n",
       "      <td>0.167832</td>\n",
       "      <td>0.050847</td>\n",
       "      <td>0</td>\n",
       "    </tr>\n",
       "  </tbody>\n",
       "</table>\n",
       "</div>"
      ],
      "text/plain": [
       "       pm10      pm25       so2        co        o3       no2  categori\n",
       "0  0.158537  0.428571  0.430380  0.285714  0.188811  0.000000         0\n",
       "1  0.140244  0.214286  0.329114  0.095238  0.160839  0.152542         1\n",
       "2  0.073171  0.168831  0.303797  0.119048  0.272727  0.050847         0\n",
       "3  0.176829  0.246753  0.278481  0.119048  0.223776  0.152542         1\n",
       "4  0.091463  0.181818  0.265823  0.047619  0.167832  0.050847         0"
      ]
     },
     "execution_count": 367,
     "metadata": {},
     "output_type": "execute_result"
    }
   ],
   "source": [
    "columns_to_normalize = ['pm10', 'pm25', 'so2', 'co', 'o3', 'no2']\n",
    "\n",
    "scaler = MinMaxScaler()\n",
    "\n",
    "df[columns_to_normalize] = scaler.fit_transform(df[columns_to_normalize])\n",
    "\n",
    "df.head()"
   ]
  },
  {
   "cell_type": "code",
   "execution_count": 368,
   "id": "62538f3f",
   "metadata": {},
   "outputs": [
    {
     "data": {
      "text/html": [
       "<div>\n",
       "<style scoped>\n",
       "    .dataframe tbody tr th:only-of-type {\n",
       "        vertical-align: middle;\n",
       "    }\n",
       "\n",
       "    .dataframe tbody tr th {\n",
       "        vertical-align: top;\n",
       "    }\n",
       "\n",
       "    .dataframe thead th {\n",
       "        text-align: right;\n",
       "    }\n",
       "</style>\n",
       "<table border=\"1\" class=\"dataframe\">\n",
       "  <thead>\n",
       "    <tr style=\"text-align: right;\">\n",
       "      <th></th>\n",
       "      <th>pm10</th>\n",
       "      <th>pm25</th>\n",
       "      <th>so2</th>\n",
       "      <th>co</th>\n",
       "      <th>o3</th>\n",
       "      <th>no2</th>\n",
       "      <th>categori</th>\n",
       "    </tr>\n",
       "  </thead>\n",
       "  <tbody>\n",
       "    <tr>\n",
       "      <th>pm10</th>\n",
       "      <td>1.000000</td>\n",
       "      <td>0.805093</td>\n",
       "      <td>0.487488</td>\n",
       "      <td>0.400978</td>\n",
       "      <td>0.299966</td>\n",
       "      <td>0.492814</td>\n",
       "      <td>0.805703</td>\n",
       "    </tr>\n",
       "    <tr>\n",
       "      <th>pm25</th>\n",
       "      <td>0.805093</td>\n",
       "      <td>1.000000</td>\n",
       "      <td>0.360798</td>\n",
       "      <td>0.354685</td>\n",
       "      <td>0.229771</td>\n",
       "      <td>0.477632</td>\n",
       "      <td>0.818673</td>\n",
       "    </tr>\n",
       "    <tr>\n",
       "      <th>so2</th>\n",
       "      <td>0.487488</td>\n",
       "      <td>0.360798</td>\n",
       "      <td>1.000000</td>\n",
       "      <td>0.000705</td>\n",
       "      <td>0.352333</td>\n",
       "      <td>0.105760</td>\n",
       "      <td>0.412989</td>\n",
       "    </tr>\n",
       "    <tr>\n",
       "      <th>co</th>\n",
       "      <td>0.400978</td>\n",
       "      <td>0.354685</td>\n",
       "      <td>0.000705</td>\n",
       "      <td>1.000000</td>\n",
       "      <td>0.036114</td>\n",
       "      <td>0.500929</td>\n",
       "      <td>0.374179</td>\n",
       "    </tr>\n",
       "    <tr>\n",
       "      <th>o3</th>\n",
       "      <td>0.299966</td>\n",
       "      <td>0.229771</td>\n",
       "      <td>0.352333</td>\n",
       "      <td>0.036114</td>\n",
       "      <td>1.000000</td>\n",
       "      <td>0.010181</td>\n",
       "      <td>0.194969</td>\n",
       "    </tr>\n",
       "    <tr>\n",
       "      <th>no2</th>\n",
       "      <td>0.492814</td>\n",
       "      <td>0.477632</td>\n",
       "      <td>0.105760</td>\n",
       "      <td>0.500929</td>\n",
       "      <td>0.010181</td>\n",
       "      <td>1.000000</td>\n",
       "      <td>0.482279</td>\n",
       "    </tr>\n",
       "    <tr>\n",
       "      <th>categori</th>\n",
       "      <td>0.805703</td>\n",
       "      <td>0.818673</td>\n",
       "      <td>0.412989</td>\n",
       "      <td>0.374179</td>\n",
       "      <td>0.194969</td>\n",
       "      <td>0.482279</td>\n",
       "      <td>1.000000</td>\n",
       "    </tr>\n",
       "  </tbody>\n",
       "</table>\n",
       "</div>"
      ],
      "text/plain": [
       "              pm10      pm25       so2        co        o3       no2  categori\n",
       "pm10      1.000000  0.805093  0.487488  0.400978  0.299966  0.492814  0.805703\n",
       "pm25      0.805093  1.000000  0.360798  0.354685  0.229771  0.477632  0.818673\n",
       "so2       0.487488  0.360798  1.000000  0.000705  0.352333  0.105760  0.412989\n",
       "co        0.400978  0.354685  0.000705  1.000000  0.036114  0.500929  0.374179\n",
       "o3        0.299966  0.229771  0.352333  0.036114  1.000000  0.010181  0.194969\n",
       "no2       0.492814  0.477632  0.105760  0.500929  0.010181  1.000000  0.482279\n",
       "categori  0.805703  0.818673  0.412989  0.374179  0.194969  0.482279  1.000000"
      ]
     },
     "execution_count": 368,
     "metadata": {},
     "output_type": "execute_result"
    }
   ],
   "source": [
    "df.corr()"
   ]
  },
  {
   "cell_type": "code",
   "execution_count": 369,
   "id": "b4dda4d2",
   "metadata": {},
   "outputs": [
    {
     "data": {
      "image/png": "[encoded data removed]",
      "text/plain": [
       "<Figure size 640x480 with 2 Axes>"
      ]
     },
     "metadata": {},
     "output_type": "display_data"
    }
   ],
   "source": [
    "import seaborn as sns\n",
    "import matplotlib.pyplot as plt\n",
    "\n",
    "# Menampilkan heatmap dari matriks korelasi\n",
    "sns.heatmap(df.corr(), annot=True, cmap=\"coolwarm\", fmt=\".2f\")\n",
    "plt.show()\n"
   ]
  },
  {
   "cell_type": "code",
   "execution_count": 370,
   "id": "27ceefba",
   "metadata": {},
   "outputs": [],
   "source": [
    "joblib.dump(scaler, open('models/MinMaxScaler.pkl', 'wb'))"
   ]
  },
  {
   "cell_type": "markdown",
   "id": "700cb7e4",
   "metadata": {
    "papermill": {
     "duration": 0.021026,
     "end_time": "2023-12-04T05:38:57.899983",
     "exception": false,
     "start_time": "2023-12-04T05:38:57.878957",
     "status": "completed"
    },
    "tags": []
   },
   "source": [
    "**Feature Selection**\n",
    "\n",
    "* Correlation untuk melihat seberapa berpengaruh feature dengan variable target"
   ]
  },
  {
   "cell_type": "code",
   "execution_count": 371,
   "id": "023d9c26",
   "metadata": {
    "execution": {
     "iopub.execute_input": "2023-12-04T05:38:57.948966Z",
     "iopub.status.busy": "2023-12-04T05:38:57.948295Z",
     "iopub.status.idle": "2023-12-04T05:38:57.961793Z",
     "shell.execute_reply": "2023-12-04T05:38:57.960064Z"
    },
    "papermill": {
     "duration": 0.042913,
     "end_time": "2023-12-04T05:38:57.965460",
     "exception": false,
     "start_time": "2023-12-04T05:38:57.922547",
     "status": "completed"
    },
    "tags": []
   },
   "outputs": [
    {
     "name": "stdout",
     "output_type": "stream",
     "text": [
      "pm10        0.805703\n",
      "pm25        0.818673\n",
      "so2         0.412989\n",
      "co          0.374179\n",
      "o3          0.194969\n",
      "no2         0.482279\n",
      "categori    1.000000\n",
      "Name: categori, dtype: float64\n"
     ]
    }
   ],
   "source": [
    "corr_matrix = df.corr()['categori']\n",
    "print(corr_matrix)"
   ]
  },
  {
   "cell_type": "markdown",
   "id": "083197bb",
   "metadata": {
    "papermill": {
     "duration": 0.024318,
     "end_time": "2023-12-04T05:38:58.134463",
     "exception": false,
     "start_time": "2023-12-04T05:38:58.110145",
     "status": "completed"
    },
    "tags": []
   },
   "source": [
    "# **Predict**"
   ]
  },
  {
   "cell_type": "markdown",
   "id": "7027f53f",
   "metadata": {
    "papermill": {
     "duration": 0.023426,
     "end_time": "2023-12-04T05:38:58.182036",
     "exception": false,
     "start_time": "2023-12-04T05:38:58.158610",
     "status": "completed"
    },
    "tags": []
   },
   "source": [
    "Feature target harus dihapus dari dataset karena target adalah variabel dependen yang ingin diprediksi oleh model."
   ]
  },
  {
   "cell_type": "code",
   "execution_count": 372,
   "id": "ce6967f4",
   "metadata": {
    "execution": {
     "iopub.execute_input": "2023-12-04T05:38:58.233458Z",
     "iopub.status.busy": "2023-12-04T05:38:58.232981Z",
     "iopub.status.idle": "2023-12-04T05:38:58.242657Z",
     "shell.execute_reply": "2023-12-04T05:38:58.241394Z"
    },
    "papermill": {
     "duration": 0.037769,
     "end_time": "2023-12-04T05:38:58.245419",
     "exception": false,
     "start_time": "2023-12-04T05:38:58.207650",
     "status": "completed"
    },
    "tags": []
   },
   "outputs": [],
   "source": [
    "y = df.categori.values\n",
    "x_data = df.drop(['categori'], axis = 1)"
   ]
  },
  {
   "cell_type": "code",
   "execution_count": 373,
   "id": "912c119b",
   "metadata": {},
   "outputs": [
    {
     "data": {
      "image/png": "[encoded data removed]",
      "text/plain": [
       "<Figure size 1000x600 with 1 Axes>"
      ]
     },
     "metadata": {},
     "output_type": "display_data"
    }
   ],
   "source": [
    "df['categori'].value_counts().plot(kind='bar',figsize=(10,6),color=['green','blue'])\n",
    "plt.title(\"Count of the target\")\n",
    "plt.xticks(rotation=0);"
   ]
  },
  {
   "cell_type": "markdown",
   "id": "14d21630",
   "metadata": {
    "papermill": {
     "duration": 0.024738,
     "end_time": "2023-12-04T05:38:58.296976",
     "exception": false,
     "start_time": "2023-12-04T05:38:58.272238",
     "status": "completed"
    },
    "tags": []
   },
   "source": [
    "**Balancing data**"
   ]
  },
  {
   "cell_type": "markdown",
   "id": "6dec6a51",
   "metadata": {},
   "source": [
    "imbalanced data menggunakan SMOTE"
   ]
  },
  {
   "cell_type": "code",
   "execution_count": 374,
   "id": "9b72f8f7",
   "metadata": {
    "execution": {
     "iopub.execute_input": "2023-12-04T05:38:58.351259Z",
     "iopub.status.busy": "2023-12-04T05:38:58.350318Z",
     "iopub.status.idle": "2023-12-04T05:38:58.908416Z",
     "shell.execute_reply": "2023-12-04T05:38:58.906914Z"
    },
    "papermill": {
     "duration": 0.588039,
     "end_time": "2023-12-04T05:38:58.911434",
     "exception": false,
     "start_time": "2023-12-04T05:38:58.323395",
     "status": "completed"
    },
    "tags": []
   },
   "outputs": [
    {
     "name": "stdout",
     "output_type": "stream",
     "text": [
      "Original dataset shape Counter({1: 344, 2: 265, 0: 165})\n",
      "Resampled ytrain dataset shape Counter({0: 344, 1: 344, 2: 344})\n"
     ]
    },
    {
     "data": {
      "image/png": "[encoded data removed]",
      "text/plain": [
       "<Figure size 1000x600 with 2 Axes>"
      ]
     },
     "metadata": {},
     "output_type": "display_data"
    }
   ],
   "source": [
    "from imblearn.over_sampling import SMOTE\n",
    "from collections import Counter\n",
    "\n",
    "smote = SMOTE(random_state=0)\n",
    "print('Original dataset shape %s' % Counter(y))\n",
    "x_train_smote, y_train_smote = smote.fit_resample(x_data, y)\n",
    "print('Resampled ytrain dataset shape %s' % Counter(y_train_smote))\n",
    "\n",
    "#Visualisasi\n",
    "\n",
    "plt.figure(figsize=(12,4))\n",
    "\n",
    "new_df1 = pd.DataFrame(data=y)\n",
    "plt.subplot(1, 2, 1)\n",
    "new_df1.value_counts().plot(kind='bar',figsize=(10,6),color=['green','blue','red','yellow'])\n",
    "plt.title(\"target before Resampled with SMOTE \")\n",
    "plt.xticks(rotation=0);\n",
    "\n",
    "\n",
    "new_df2 = pd.DataFrame(data=y_train_smote)\n",
    "plt.subplot(1, 2, 2)\n",
    "new_df2.value_counts().plot(kind='bar',figsize=(10,6),color=['green','blue','red','yellow'])\n",
    "plt.title(\"target after Resampled with SMOTE\")\n",
    "plt.xticks(rotation=0);\n",
    "plt.tight_layout()\n",
    "plt.show()"
   ]
  },
  {
   "cell_type": "markdown",
   "id": "99a4a82e",
   "metadata": {
    "papermill": {
     "duration": 0.025184,
     "end_time": "2023-12-04T05:38:58.959414",
     "exception": false,
     "start_time": "2023-12-04T05:38:58.934230",
     "status": "completed"
    },
    "tags": []
   },
   "source": [
    "**Splitting data**"
   ]
  },
  {
   "cell_type": "markdown",
   "id": "8612801d",
   "metadata": {
    "papermill": {
     "duration": 0.023445,
     "end_time": "2023-12-04T05:38:59.007977",
     "exception": false,
     "start_time": "2023-12-04T05:38:58.984532",
     "status": "completed"
    },
    "tags": []
   },
   "source": [
    "* Normalize\n",
    "\n",
    "data telah dinormalisasi sebelum model dibuat. Namun, when the model created, data uji harus dinormalisasi kembali menggunakan parameter yang sama dengan data pelatihan. Hal ini dilakukan untuk memastikan bahwa data uji memiliki skala yang sama dengan data pelatihan dan agar model dapat memberikan hasil yang akurat."
   ]
  },
  {
   "cell_type": "code",
   "execution_count": 375,
   "id": "9537b4da",
   "metadata": {
    "execution": {
     "iopub.execute_input": "2023-12-04T05:38:59.061004Z",
     "iopub.status.busy": "2023-12-04T05:38:59.060428Z",
     "iopub.status.idle": "2023-12-04T05:38:59.067646Z",
     "shell.execute_reply": "2023-12-04T05:38:59.066666Z"
    },
    "papermill": {
     "duration": 0.037163,
     "end_time": "2023-12-04T05:38:59.070286",
     "exception": false,
     "start_time": "2023-12-04T05:38:59.033123",
     "status": "completed"
    },
    "tags": []
   },
   "outputs": [],
   "source": [
    "x = (x_train_smote - np.min(x_train_smote)) / (np.max(x_train_smote) - np.min(x_train_smote))"
   ]
  },
  {
   "cell_type": "markdown",
   "id": "c67e3247",
   "metadata": {
    "papermill": {
     "duration": 0.021944,
     "end_time": "2023-12-04T05:38:59.114847",
     "exception": false,
     "start_time": "2023-12-04T05:38:59.092903",
     "status": "completed"
    },
    "tags": []
   },
   "source": [
    "* Training Testing"
   ]
  },
  {
   "cell_type": "code",
   "execution_count": 376,
   "id": "614f23ea",
   "metadata": {
    "execution": {
     "iopub.execute_input": "2023-12-04T05:38:59.162640Z",
     "iopub.status.busy": "2023-12-04T05:38:59.161268Z",
     "iopub.status.idle": "2023-12-04T05:38:59.169667Z",
     "shell.execute_reply": "2023-12-04T05:38:59.167852Z"
    },
    "papermill": {
     "duration": 0.036608,
     "end_time": "2023-12-04T05:38:59.173159",
     "exception": false,
     "start_time": "2023-12-04T05:38:59.136551",
     "status": "completed"
    },
    "tags": []
   },
   "outputs": [],
   "source": [
    "x_train, x_test, y_train, y_test = train_test_split(x_data,y,test_size = 0.3,random_state=0)\n"
   ]
  },
  {
   "cell_type": "markdown",
   "id": "be6decb2",
   "metadata": {
    "papermill": {
     "duration": 0.021513,
     "end_time": "2023-12-04T05:38:59.218874",
     "exception": false,
     "start_time": "2023-12-04T05:38:59.197361",
     "status": "completed"
    },
    "tags": []
   },
   "source": [
    "Transpose adalah operasi yang menukar baris menjadi kolom dan sebaliknya pada matriks."
   ]
  },
  {
   "cell_type": "code",
   "execution_count": 377,
   "id": "9cb3d04d",
   "metadata": {
    "execution": {
     "iopub.execute_input": "2023-12-04T05:38:59.270435Z",
     "iopub.status.busy": "2023-12-04T05:38:59.269008Z",
     "iopub.status.idle": "2023-12-04T05:38:59.276646Z",
     "shell.execute_reply": "2023-12-04T05:38:59.275388Z"
    },
    "papermill": {
     "duration": 0.037082,
     "end_time": "2023-12-04T05:38:59.280004",
     "exception": false,
     "start_time": "2023-12-04T05:38:59.242922",
     "status": "completed"
    },
    "tags": []
   },
   "outputs": [],
   "source": [
    "x_train = x_train.T\n",
    "y_train = y_train.T\n",
    "x_test = x_test.T\n",
    "y_test = y_test.T"
   ]
  },
  {
   "cell_type": "markdown",
   "id": "4367aa79",
   "metadata": {
    "papermill": {
     "duration": 0.026113,
     "end_time": "2023-12-04T05:38:59.329067",
     "exception": false,
     "start_time": "2023-12-04T05:38:59.302954",
     "status": "completed"
    },
    "tags": []
   },
   "source": [
    "**Creating Model**\n",
    "\n",
    "Disini saya mencoba 3 algoritma yaitu = KNN, SVM dan Naive Bayes\n",
    "\n",
    "* KNN\n",
    "\n",
    "untuk KNN Nilai k terbaik adalah 5 dan Akurasi terbaik adalah 86.70%"
   ]
  },
  {
   "cell_type": "code",
   "execution_count": 378,
   "id": "d6fbb34c",
   "metadata": {
    "execution": {
     "iopub.execute_input": "2023-12-04T05:38:59.380126Z",
     "iopub.status.busy": "2023-12-04T05:38:59.378952Z",
     "iopub.status.idle": "2023-12-04T05:38:59.384969Z",
     "shell.execute_reply": "2023-12-04T05:38:59.383960Z"
    },
    "papermill": {
     "duration": 0.035392,
     "end_time": "2023-12-04T05:38:59.388123",
     "exception": false,
     "start_time": "2023-12-04T05:38:59.352731",
     "status": "completed"
    },
    "tags": []
   },
   "outputs": [],
   "source": [
    "accuracies = {}"
   ]
  },
  {
   "cell_type": "code",
   "execution_count": 379,
   "id": "dc7ab45c",
   "metadata": {
    "execution": {
     "iopub.execute_input": "2023-12-04T05:38:59.438757Z",
     "iopub.status.busy": "2023-12-04T05:38:59.438337Z",
     "iopub.status.idle": "2023-12-04T05:38:59.501556Z",
     "shell.execute_reply": "2023-12-04T05:38:59.499399Z"
    },
    "papermill": {
     "duration": 0.093436,
     "end_time": "2023-12-04T05:38:59.505272",
     "exception": false,
     "start_time": "2023-12-04T05:38:59.411836",
     "status": "completed"
    },
    "tags": []
   },
   "outputs": [
    {
     "name": "stdout",
     "output_type": "stream",
     "text": [
      "2 NN Score: 78.54%\n"
     ]
    }
   ],
   "source": [
    "from sklearn.neighbors import KNeighborsClassifier\n",
    "knn = KNeighborsClassifier(n_neighbors = 2)  # n_neighbors means k\n",
    "knn.fit(x_train.T, y_train.T)\n",
    "prediction = knn.predict(x_test.T)\n",
    "\n",
    "print(\"{} NN Score: {:.2f}%\".format(2, knn.score(x_test.T, y_test.T)*100))"
   ]
  },
  {
   "cell_type": "code",
   "execution_count": 380,
   "id": "0ee1ca75",
   "metadata": {
    "execution": {
     "iopub.execute_input": "2023-12-04T05:38:59.558659Z",
     "iopub.status.busy": "2023-12-04T05:38:59.557882Z",
     "iopub.status.idle": "2023-12-04T05:39:00.489367Z",
     "shell.execute_reply": "2023-12-04T05:39:00.487483Z"
    },
    "papermill": {
     "duration": 0.961698,
     "end_time": "2023-12-04T05:39:00.492811",
     "exception": false,
     "start_time": "2023-12-04T05:38:59.531113",
     "status": "completed"
    },
    "tags": []
   },
   "outputs": [
    {
     "name": "stdout",
     "output_type": "stream",
     "text": [
      "Nilai k terbaik adalah 5\n",
      "Akurasi terbaik adalah 86.70%\n"
     ]
    },
    {
     "data": {
      "image/png": "[encoded data removed]",
      "text/plain": [
       "<Figure size 640x480 with 1 Axes>"
      ]
     },
     "metadata": {},
     "output_type": "display_data"
    }
   ],
   "source": [
    "scoreList = []\n",
    "for i in range(1, 20):\n",
    "    knn2 = KNeighborsClassifier(n_neighbors = i)\n",
    "    knn2.fit(x_train.T, y_train.T)\n",
    "    scoreList.append(knn2.score(x_test.T, y_test.T))\n",
    "\n",
    "optimal_k = scoreList.index(max(scoreList)) + 1\n",
    "print(\"Nilai k terbaik adalah\", optimal_k)\n",
    "print(\"Akurasi terbaik adalah {:.2f}%\".format(max(scoreList)*100))\n",
    "\n",
    "plt.plot(range(1, 20), scoreList)\n",
    "plt.xticks(np.arange(1, 20, 1))\n",
    "plt.xlabel(\"K value\")\n",
    "plt.ylabel(\"Score\")\n",
    "\n",
    "acc = max(scoreList)*100\n",
    "accuracies['KNN'] = acc\n",
    "\n",
    "# Save the model\n",
    "filename = 'KNN_Model.pkl'\n",
    "pickle.dump(knn2, open(filename, 'wb'))\n",
    "\n",
    "plt.show()\n"
   ]
  },
  {
   "cell_type": "markdown",
   "id": "e420e1c3",
   "metadata": {
    "papermill": {
     "duration": 0.024452,
     "end_time": "2023-12-04T05:39:00.541706",
     "exception": false,
     "start_time": "2023-12-04T05:39:00.517254",
     "status": "completed"
    },
    "tags": []
   },
   "source": [
    "* SVM\n",
    "\n",
    "Untuk SVM Parameter terbaik yaitu:  {'C': 100, 'gamma': 1, 'kernel': 'rbf'} dengan Skor akurasi:  0.92"
   ]
  },
  {
   "cell_type": "code",
   "execution_count": 381,
   "id": "48f4bece",
   "metadata": {
    "execution": {
     "iopub.execute_input": "2023-12-04T05:39:00.595654Z",
     "iopub.status.busy": "2023-12-04T05:39:00.595224Z",
     "iopub.status.idle": "2023-12-04T05:39:00.613654Z",
     "shell.execute_reply": "2023-12-04T05:39:00.612040Z"
    },
    "papermill": {
     "duration": 0.04843,
     "end_time": "2023-12-04T05:39:00.617050",
     "exception": false,
     "start_time": "2023-12-04T05:39:00.568620",
     "status": "completed"
    },
    "tags": []
   },
   "outputs": [
    {
     "name": "stdout",
     "output_type": "stream",
     "text": [
      "Test Accuracy of SVM Algorithm: 86.70%\n"
     ]
    }
   ],
   "source": [
    "svm = SVC(kernel='rbf', C=1, gamma=2)\n",
    "svm = svm.fit(x_train.T, y_train.T)\n",
    "prediction = svm.predict(x_test.T)\n",
    "\n",
    "\n",
    "print(\"Test Accuracy of SVM Algorithm: {:.2f}%\".format(acc))"
   ]
  },
  {
   "cell_type": "code",
   "execution_count": 382,
   "id": "27f55a78",
   "metadata": {
    "execution": {
     "iopub.execute_input": "2023-12-04T05:39:00.669891Z",
     "iopub.status.busy": "2023-12-04T05:39:00.669466Z",
     "iopub.status.idle": "2023-12-04T05:39:05.503439Z",
     "shell.execute_reply": "2023-12-04T05:39:05.501642Z"
    },
    "papermill": {
     "duration": 4.866721,
     "end_time": "2023-12-04T05:39:05.508996",
     "exception": false,
     "start_time": "2023-12-04T05:39:00.642275",
     "status": "completed"
    },
    "tags": []
   },
   "outputs": [
    {
     "name": "stdout",
     "output_type": "stream",
     "text": [
      "Parameter terbaik:  {'C': 100, 'gamma': 1, 'kernel': 'rbf'}\n",
      "Skor akurasi:  0.927964661909616\n"
     ]
    }
   ],
   "source": [
    "svm = SVC()\n",
    "param_grid = [\n",
    "  {'C': [0.5, 1, 10, 100], 'kernel': ['linear']},\n",
    "  {'C': [0.5, 1, 10, 100], 'gamma': [1, 0.1, 0.01, 0.001, 0.0001], 'kernel': ['rbf']},\n",
    "  {'C': [0.5, 1, 10, 100], 'gamma': [1, 0.1, 0.01, 0.001, 0.0001], 'kernel': ['poly']},\n",
    "  {'C': [0.5, 1, 10, 100], 'gamma': [1, 0.1, 0.01, 0.001, 0.0001], 'kernel': ['sigmoid']}\n",
    "]\n",
    "\n",
    "\n",
    "grid_search = GridSearchCV(svm, param_grid)\n",
    "\n",
    "grid_search.fit(x_train.T, y_train.T)\n",
    "\n",
    "acc = grid_search.best_score_*100\n",
    "accuracies['SVM'] = acc\n",
    "\n",
    "# Save the model\n",
    "filename = 'models/SVM_Model.pkl'\n",
    "pickle.dump(grid_search, open(filename, 'wb'))\n",
    "\n",
    "print(\"Parameter terbaik: \", grid_search.best_params_)\n",
    "print(\"Skor akurasi: \", grid_search.best_score_)"
   ]
  },
  {
   "cell_type": "markdown",
   "id": "7cacd78f",
   "metadata": {
    "papermill": {
     "duration": 0.024957,
     "end_time": "2023-12-04T05:39:05.557954",
     "exception": false,
     "start_time": "2023-12-04T05:39:05.532997",
     "status": "completed"
    },
    "tags": []
   },
   "source": [
    "* Naive Bayes"
   ]
  },
  {
   "cell_type": "code",
   "execution_count": 383,
   "id": "ce5e27df",
   "metadata": {
    "execution": {
     "iopub.execute_input": "2023-12-04T05:39:05.608548Z",
     "iopub.status.busy": "2023-12-04T05:39:05.608100Z",
     "iopub.status.idle": "2023-12-04T05:39:05.625435Z",
     "shell.execute_reply": "2023-12-04T05:39:05.623959Z"
    },
    "papermill": {
     "duration": 0.044559,
     "end_time": "2023-12-04T05:39:05.627957",
     "exception": false,
     "start_time": "2023-12-04T05:39:05.583398",
     "status": "completed"
    },
    "tags": []
   },
   "outputs": [
    {
     "name": "stdout",
     "output_type": "stream",
     "text": [
      "Accuracy of Naive Bayes: 82.40%\n"
     ]
    }
   ],
   "source": [
    "from sklearn.naive_bayes import GaussianNB\n",
    "nb = GaussianNB()\n",
    "nb.fit(x_train.T, y_train.T)\n",
    "\n",
    "acc = nb.score(x_test.T,y_test.T)*100\n",
    "accuracies['Naive Bayes'] = acc\n",
    "print(\"Accuracy of Naive Bayes: {:.2f}%\".format(acc))"
   ]
  },
  {
   "cell_type": "markdown",
   "id": "744536bc",
   "metadata": {
    "papermill": {
     "duration": 0.022371,
     "end_time": "2023-12-04T05:39:05.675466",
     "exception": false,
     "start_time": "2023-12-04T05:39:05.653095",
     "status": "completed"
    },
    "tags": []
   },
   "source": [
    "* Comparing models"
   ]
  },
  {
   "cell_type": "code",
   "execution_count": 384,
   "id": "72f103e3",
   "metadata": {
    "execution": {
     "iopub.execute_input": "2023-12-04T05:39:05.726301Z",
     "iopub.status.busy": "2023-12-04T05:39:05.725859Z",
     "iopub.status.idle": "2023-12-04T05:39:06.073506Z",
     "shell.execute_reply": "2023-12-04T05:39:06.071354Z"
    },
    "papermill": {
     "duration": 0.376988,
     "end_time": "2023-12-04T05:39:06.077237",
     "exception": false,
     "start_time": "2023-12-04T05:39:05.700249",
     "status": "completed"
    },
    "tags": []
   },
   "outputs": [
    {
     "name": "stderr",
     "output_type": "stream",
     "text": [
      "c:\\Users\\Asus\\OneDrive\\Documents\\Skripsi\\Predict\\.venv\\lib\\site-packages\\seaborn\\_oldcore.py:1765: FutureWarning: unique with argument that is not not a Series, Index, ExtensionArray, or np.ndarray is deprecated and will raise in a future version.\n",
      "  order = pd.unique(vector)\n"
     ]
    },
    {
     "data": {
      "image/png": "[encoded data removed]",
      "text/plain": [
       "<Figure size 1600x500 with 1 Axes>"
      ]
     },
     "metadata": {},
     "output_type": "display_data"
    }
   ],
   "source": [
    "colors = [\"purple\", \"orange\", \"green\"]\n",
    "\n",
    "sns.set_style(\"whitegrid\")\n",
    "plt.figure(figsize=(16,5))\n",
    "plt.yticks(np.arange(0,100,10))\n",
    "plt.ylabel(\"Accuracy %\")\n",
    "plt.xlabel(\"Method\")\n",
    "sns.barplot(x=list(accuracies.keys()), y=list(accuracies.values()), palette=colors)\n",
    "plt.show()"
   ]
  },
  {
   "cell_type": "markdown",
   "id": "76b2ae7a",
   "metadata": {
    "papermill": {
     "duration": 0.025787,
     "end_time": "2023-12-04T05:39:06.126052",
     "exception": false,
     "start_time": "2023-12-04T05:39:06.100265",
     "status": "completed"
    },
    "tags": []
   },
   "source": [
    "* Confusion Matrix\n",
    "\n",
    "KNN"
   ]
  },
  {
   "cell_type": "code",
   "execution_count": 385,
   "id": "cf7ea2bf",
   "metadata": {
    "execution": {
     "iopub.execute_input": "2023-12-04T05:39:06.181276Z",
     "iopub.status.busy": "2023-12-04T05:39:06.180817Z",
     "iopub.status.idle": "2023-12-04T05:39:06.776672Z",
     "shell.execute_reply": "2023-12-04T05:39:06.774732Z"
    },
    "papermill": {
     "duration": 0.627078,
     "end_time": "2023-12-04T05:39:06.780225",
     "exception": false,
     "start_time": "2023-12-04T05:39:06.153147",
     "status": "completed"
    },
    "tags": []
   },
   "outputs": [
    {
     "data": {
      "image/png": "[encoded data removed]",
      "text/plain": [
       "<Figure size 640x480 with 2 Axes>"
      ]
     },
     "metadata": {},
     "output_type": "display_data"
    },
    {
     "name": "stdout",
     "output_type": "stream",
     "text": [
      "              precision    recall  f1-score   support\n",
      "\n",
      "           0       0.86      0.89      0.88        47\n",
      "           1       0.84      0.85      0.85       101\n",
      "           2       0.90      0.87      0.89        85\n",
      "\n",
      "    accuracy                           0.87       233\n",
      "   macro avg       0.87      0.87      0.87       233\n",
      "weighted avg       0.87      0.87      0.87       233\n",
      "\n"
     ]
    }
   ],
   "source": [
    "knn = KNeighborsClassifier(n_neighbors=optimal_k)\n",
    "knn.fit(x_train.T, y_train.T)\n",
    "y_pred = knn.predict(x_test.T)\n",
    "\n",
    "cm = confusion_matrix(y_test, y_pred)\n",
    "\n",
    "sns.heatmap(cm, annot=True, cmap='Blues')\n",
    "plt.title('Confusion Matrix')\n",
    "plt.xlabel('Predicted')\n",
    "plt.ylabel('Actual')\n",
    "plt.show()\n",
    "\n",
    "report = classification_report(y_test, y_pred)\n",
    "print(report)"
   ]
  },
  {
   "cell_type": "markdown",
   "id": "0fbd61b0",
   "metadata": {
    "papermill": {
     "duration": 0.024242,
     "end_time": "2023-12-04T05:39:06.831369",
     "exception": false,
     "start_time": "2023-12-04T05:39:06.807127",
     "status": "completed"
    },
    "tags": []
   },
   "source": [
    "SVM"
   ]
  },
  {
   "cell_type": "code",
   "execution_count": 386,
   "id": "b8f76a4f",
   "metadata": {
    "execution": {
     "iopub.execute_input": "2023-12-04T05:39:06.888922Z",
     "iopub.status.busy": "2023-12-04T05:39:06.887776Z",
     "iopub.status.idle": "2023-12-04T05:39:07.364938Z",
     "shell.execute_reply": "2023-12-04T05:39:07.362631Z"
    },
    "papermill": {
     "duration": 0.511541,
     "end_time": "2023-12-04T05:39:07.370244",
     "exception": false,
     "start_time": "2023-12-04T05:39:06.858703",
     "status": "completed"
    },
    "tags": []
   },
   "outputs": [
    {
     "data": {
      "image/png": "[encoded data removed]",
      "text/plain": [
       "<Figure size 640x480 with 2 Axes>"
      ]
     },
     "metadata": {},
     "output_type": "display_data"
    },
    {
     "name": "stdout",
     "output_type": "stream",
     "text": [
      "              precision    recall  f1-score   support\n",
      "\n",
      "           0       0.83      0.81      0.82        47\n",
      "           1       0.87      0.92      0.89       101\n",
      "           2       1.00      0.94      0.97        85\n",
      "\n",
      "    accuracy                           0.91       233\n",
      "   macro avg       0.90      0.89      0.89       233\n",
      "weighted avg       0.91      0.91      0.91       233\n",
      "\n"
     ]
    }
   ],
   "source": [
    "svm = SVC(kernel='rbf', C=100, gamma=1).fit(x_train.T, y_train.T)\n",
    "y_pred = svm.predict(x_test.T)\n",
    "\n",
    "cm = confusion_matrix(y_test, y_pred)\n",
    "\n",
    "sns.heatmap(cm, annot=True, cmap='Blues')\n",
    "plt.title('Confusion Matrix')\n",
    "plt.xlabel('Predicted')\n",
    "plt.ylabel('Actual')\n",
    "plt.show()\n",
    "\n",
    "report = classification_report(y_test, y_pred)\n",
    "print(report)\n"
   ]
  },
  {
   "cell_type": "markdown",
   "id": "159a9b5b",
   "metadata": {
    "papermill": {
     "duration": 0.026734,
     "end_time": "2023-12-04T05:39:07.423603",
     "exception": false,
     "start_time": "2023-12-04T05:39:07.396869",
     "status": "completed"
    },
    "tags": []
   },
   "source": [
    "Naive Bayes"
   ]
  },
  {
   "cell_type": "code",
   "execution_count": 387,
   "id": "54be158b",
   "metadata": {
    "execution": {
     "iopub.execute_input": "2023-12-04T05:39:07.479261Z",
     "iopub.status.busy": "2023-12-04T05:39:07.476617Z",
     "iopub.status.idle": "2023-12-04T05:39:07.920627Z",
     "shell.execute_reply": "2023-12-04T05:39:07.918590Z"
    },
    "papermill": {
     "duration": 0.473187,
     "end_time": "2023-12-04T05:39:07.923637",
     "exception": false,
     "start_time": "2023-12-04T05:39:07.450450",
     "status": "completed"
    },
    "tags": []
   },
   "outputs": [
    {
     "data": {
      "image/png": "[encoded data removed]",
      "text/plain": [
       "<Figure size 640x480 with 2 Axes>"
      ]
     },
     "metadata": {},
     "output_type": "display_data"
    },
    {
     "name": "stdout",
     "output_type": "stream",
     "text": [
      "              precision    recall  f1-score   support\n",
      "\n",
      "           0       0.71      0.85      0.78        47\n",
      "           1       0.84      0.73      0.78       101\n",
      "           2       0.88      0.92      0.90        85\n",
      "\n",
      "    accuracy                           0.82       233\n",
      "   macro avg       0.81      0.83      0.82       233\n",
      "weighted avg       0.83      0.82      0.82       233\n",
      "\n"
     ]
    }
   ],
   "source": [
    "nb = GaussianNB()\n",
    "nb.fit(x_train.T, y_train.T)\n",
    "y_pred = nb.predict(x_test.T)\n",
    "\n",
    "cm = confusion_matrix(y_test, y_pred)\n",
    "\n",
    "sns.heatmap(cm, annot=True, cmap='Blues')\n",
    "plt.title('Confusion Matrix')\n",
    "plt.xlabel('Predicted')\n",
    "plt.ylabel('Actual')\n",
    "plt.show()\n",
    "\n",
    "report = classification_report(y_test, y_pred)\n",
    "print(report)\n"
   ]
  },
  {
   "cell_type": "markdown",
   "id": "55f5a87a",
   "metadata": {
    "papermill": {
     "duration": 0.026789,
     "end_time": "2023-12-04T05:39:07.976786",
     "exception": false,
     "start_time": "2023-12-04T05:39:07.949997",
     "status": "completed"
    },
    "tags": []
   },
   "source": [
    "* Try with new data"
   ]
  },
  {
   "cell_type": "code",
   "execution_count": 388,
   "id": "57dc4aa0",
   "metadata": {
    "execution": {
     "iopub.execute_input": "2023-12-04T05:39:08.031483Z",
     "iopub.status.busy": "2023-12-04T05:39:08.031049Z",
     "iopub.status.idle": "2023-12-04T05:39:08.046151Z",
     "shell.execute_reply": "2023-12-04T05:39:08.044375Z"
    },
    "papermill": {
     "duration": 0.045904,
     "end_time": "2023-12-04T05:39:08.049030",
     "exception": false,
     "start_time": "2023-12-04T05:39:08.003126",
     "status": "completed"
    },
    "tags": []
   },
   "outputs": [
    {
     "name": "stdout",
     "output_type": "stream",
     "text": [
      "   pm10     pm25  so2    co       o3  no2\n",
      "0    22  0.14653   12  0.12  1.03825    9\n",
      "[[ 0.04268293 -0.12891864  0.11392405 -0.0447619  -0.04868357  0.08474576]]\n",
      "[0] : BAIK\n"
     ]
    },
    {
     "name": "stderr",
     "output_type": "stream",
     "text": [
      "c:\\Users\\Asus\\OneDrive\\Documents\\Skripsi\\Predict\\.venv\\lib\\site-packages\\sklearn\\base.py:465: UserWarning: X does not have valid feature names, but SVC was fitted with feature names\n",
      "  warnings.warn(\n"
     ]
    }
   ],
   "source": [
    "filename = 'models/SVM_Model.pkl'\n",
    "loaded_model = pickle.load(open(filename, 'rb'))\n",
    "\n",
    "new_data = pd.DataFrame({'pm10': [22], 'pm25': [0.14653], 'so2': [12], 'co': [0.12], 'o3': [1.03825], 'no2': [9]})\n",
    "print(new_data)\n",
    "new_data_normalized = scaler.transform(new_data)\n",
    "print(new_data_normalized)\n",
    "# Predict the class of the new data\n",
    "predicted_class = loaded_model.predict(new_data_normalized)\n",
    "\n",
    "if predicted_class == 0:\n",
    "    print(predicted_class, \": BAIK\")\n",
    "elif predicted_class == 1:\n",
    "    print(predicted_class, \": SEDANG\")\n",
    "else:\n",
    "    print(predicted_class, \": TIDAK SEHAT\")\n"
   ]
  },
  {
   "cell_type": "code",
   "execution_count": null,
   "id": "552a957b",
   "metadata": {},
   "outputs": [],
   "source": []
  }
 ],
 "metadata": {
  "kaggle": {
   "accelerator": "none",
   "dataSources": [
    {
     "datasetId": 3976923,
     "sourceId": 6926450,
     "sourceType": "datasetVersion"
    }
   ],
   "dockerImageVersionId": 30587,
   "isGpuEnabled": false,
   "isInternetEnabled": true,
   "language": "python",
   "sourceType": "notebook"
  },
  "kernelspec": {
   "display_name": "Python 3",
   "language": "python",
   "name": "python3"
  },
  "language_info": {
   "codemirror_mode": {
    "name": "ipython",
    "version": 3
   },
   "file_extension": ".py",
   "mimetype": "text/x-python",
   "name": "python",
   "nbconvert_exporter": "python",
   "pygments_lexer": "ipython3",
   "version": "3.9.12"
  },
  "papermill": {
   "default_parameters": {},
   "duration": 21.853737,
   "end_time": "2023-12-04T05:39:08.904310",
   "environment_variables": {},
   "exception": null,
   "input_path": "__notebook__.ipynb",
   "output_path": "__notebook__.ipynb",
   "parameters": {},
   "start_time": "2023-12-04T05:38:47.050573",
   "version": "2.4.0"
  }
 },
 "nbformat": 4,
 "nbformat_minor": 5
}
